{
 "cells": [
  {
   "cell_type": "code",
   "execution_count": 4,
   "metadata": {},
   "outputs": [],
   "source": [
    "from sympy import *"
   ]
  },
  {
   "cell_type": "code",
   "execution_count": 19,
   "metadata": {},
   "outputs": [],
   "source": [
    "M_max, c, I_y, R, r, b, h, l, t_t, t_s = symbols('W M_max c I_y R r b h l t_t, t_s', real=True, positive=True)"
   ]
  },
  {
   "cell_type": "code",
   "execution_count": 20,
   "metadata": {},
   "outputs": [
    {
     "data": {
      "text/latex": [
       "$\\displaystyle \\frac{\\pi \\left(R^{4} - r^{4} + \\left(2 R - h\\right)^{2} \\left(R^{2} - r^{2}\\right)\\right)}{4}$"
      ],
      "text/plain": [
       "pi*(R**4 - r**4 + (2*R - h)**2*(R**2 - r**2))/4"
      ]
     },
     "execution_count": 20,
     "metadata": {},
     "output_type": "execute_result"
    }
   ],
   "source": [
    "Iyf = pi/4 * (R**4 - r**4) + (h/2-R)**2 * pi*(R**2-r**2)\n",
    "simplify(Iyf)"
   ]
  },
  {
   "cell_type": "code",
   "execution_count": 21,
   "metadata": {},
   "outputs": [
    {
     "data": {
      "text/latex": [
       "$\\displaystyle \\frac{h^{2} t_{t} \\left(- 2 R + b\\right)}{2}$"
      ],
      "text/plain": [
       "h**2*t_t*(-2*R + b)/2"
      ]
     },
     "execution_count": 21,
     "metadata": {},
     "output_type": "execute_result"
    }
   ],
   "source": [
    "Iyt =  2* (h/2)**2 *(b-R*2)*t_t\n",
    "Iyt"
   ]
  },
  {
   "cell_type": "code",
   "execution_count": 22,
   "metadata": {},
   "outputs": [
    {
     "data": {
      "text/latex": [
       "$\\displaystyle \\frac{t_{s}^{3} \\left(- 2 R + h\\right)}{6}$"
      ],
      "text/plain": [
       "t_s**3*(-2*R + h)/6"
      ]
     },
     "execution_count": 22,
     "metadata": {},
     "output_type": "execute_result"
    }
   ],
   "source": [
    "Iys = 2*((h-R*2)*t_s**3/12)\n",
    "Iys"
   ]
  },
  {
   "cell_type": "code",
   "execution_count": 25,
   "metadata": {},
   "outputs": [
    {
     "data": {
      "text/latex": [
       "$\\displaystyle I_{y} = - \\frac{h^{2} t_{t} \\left(2 R - b\\right)}{2} + \\frac{t_{s}^{3} \\left(- 2 R + h\\right)}{6} + \\frac{\\pi \\left(2 R - h\\right)^{2} \\left(R^{2} - r^{2}\\right)}{4} + \\frac{\\pi \\left(R^{4} - r^{4}\\right)}{4}$"
      ],
      "text/plain": [
       "Eq(I_y, -h**2*t_t*(2*R - b)/2 + t_s**3*(-2*R + h)/6 + pi*(2*R - h)**2*(R**2 - r**2)/4 + pi*(R**4 - r**4)/4)"
      ]
     },
     "execution_count": 25,
     "metadata": {},
     "output_type": "execute_result"
    }
   ],
   "source": [
    "simplify(Eq(I_y, Iyf + Iyt + Iys))"
   ]
  },
  {
   "cell_type": "code",
   "execution_count": 29,
   "metadata": {},
   "outputs": [
    {
     "data": {
      "text/latex": [
       "$\\displaystyle I_{y} = - \\frac{h^{2} t_{t} \\left(2 R - b\\right)}{2} + \\frac{\\pi \\left(2 R - h\\right)^{2} \\left(R^{2} - r^{2}\\right)}{4}$"
      ],
      "text/plain": [
       "Eq(I_y, -h**2*t_t*(2*R - b)/2 + pi*(2*R - h)**2*(R**2 - r**2)/4)"
      ]
     },
     "execution_count": 29,
     "metadata": {},
     "output_type": "execute_result"
    }
   ],
   "source": [
    "simplify(Eq(I_y, pi*(2*R-h)**2*(R**2-r**2)/4 + h**2*t_t*(b-2*R)/2))"
   ]
  },
  {
   "cell_type": "code",
   "execution_count": null,
   "metadata": {},
   "outputs": [],
   "source": [
    "Becaus of wall thickness physical limitations to size of R and r are imposed and it keeps the small"
   ]
  },
  {
   "cell_type": "code",
   "execution_count": 31,
   "metadata": {},
   "outputs": [],
   "source": [
    "rho, M= symbols('rho M', real=True, positive=True)"
   ]
  },
  {
   "cell_type": "code",
   "execution_count": 58,
   "metadata": {},
   "outputs": [
    {
     "data": {
      "text/plain": [
       "'I_{y} = \\\\frac{b h^{2} t_{t}}{2} + \\\\frac{\\\\pi h^{2} \\\\left(R^{2} - r^{2}\\\\right)}{4}'"
      ]
     },
     "execution_count": 58,
     "metadata": {},
     "output_type": "execute_result"
    }
   ],
   "source": [
    "A = b*h - (b-t_s*2)*(h-t_t*2)\n",
    "Mass = Eq(M, rho * A * l)\n",
    "Iy_eq = Eq(I_y, pi*(-h)**2*(R**2-r**2)/4 + h**2*t_t*(b)/2)\n",
    "latex(Iy_eq)"
   ]
  },
  {
   "cell_type": "code",
   "execution_count": 66,
   "metadata": {},
   "outputs": [
    {
     "data": {
      "text/plain": [
       "'M = l \\\\rho \\\\left(b h - \\\\left(b - 2 t_{s}\\\\right) \\\\left(h - 2 t_{t}\\\\right)\\\\right)'"
      ]
     },
     "execution_count": 66,
     "metadata": {},
     "output_type": "execute_result"
    }
   ],
   "source": [
    "latex(simplify(Mass))"
   ]
  },
  {
   "cell_type": "code",
   "execution_count": 52,
   "metadata": {},
   "outputs": [
    {
     "data": {
      "text/latex": [
       "$\\displaystyle \\frac{h^{2} t_{t} \\left(- 2 R + b\\right)}{2} + \\frac{\\pi \\left(2 R - h\\right)^{2} \\left(R^{2} - r^{2}\\right)}{4}$"
      ],
      "text/plain": [
       "h**2*t_t*(-2*R + b)/2 + pi*(2*R - h)**2*(R**2 - r**2)/4"
      ]
     },
     "execution_count": 52,
     "metadata": {},
     "output_type": "execute_result"
    }
   ],
   "source": [
    "Iy_eq.rhs"
   ]
  },
  {
   "cell_type": "code",
   "execution_count": 67,
   "metadata": {},
   "outputs": [
    {
     "data": {
      "text/plain": [
       "'\\\\frac{h^{2} \\\\left(\\\\frac{b t_{t}}{4} + \\\\frac{75 \\\\pi}{8}\\\\right)}{b t_{t} + h t_{s}}'"
      ]
     },
     "execution_count": 67,
     "metadata": {},
     "output_type": "execute_result"
    }
   ],
   "source": [
    "minimize = simplify(Iy_eq.rhs/(Mass.rhs))\n",
    "minimize = minimize.subs({R: 10, r: 5, rho: 1, l: 1})\n",
    "minimize = simplify(minimize)\n",
    "minimize = minimize.subs({t_s*t_t:0})\n",
    "\n",
    "latex(minimize)"
   ]
  },
  {
   "cell_type": "code",
   "execution_count": 46,
   "metadata": {},
   "outputs": [
    {
     "data": {
      "text/latex": [
       "$\\displaystyle \\frac{- 2 h^{2} t_{t} \\left(20 - b\\right) + 75 \\pi \\left(20 - h\\right)^{2}}{4 \\left(b h - \\left(b - 2 t_{s}\\right) \\left(h - 2 t_{s}\\right)\\right)}$"
      ],
      "text/plain": [
       "(-2*h**2*t_t*(20 - b) + 75*pi*(20 - h)**2)/(4*(b*h - (b - 2*t_s)*(h - 2*t_s)))"
      ]
     },
     "execution_count": 46,
     "metadata": {},
     "output_type": "execute_result"
    }
   ],
   "source": []
  },
  {
   "cell_type": "code",
   "execution_count": null,
   "metadata": {},
   "outputs": [],
   "source": []
  }
 ],
 "metadata": {
  "kernelspec": {
   "display_name": "Python 3",
   "language": "python",
   "name": "python3"
  },
  "language_info": {
   "codemirror_mode": {
    "name": "ipython",
    "version": 3
   },
   "file_extension": ".py",
   "mimetype": "text/x-python",
   "name": "python",
   "nbconvert_exporter": "python",
   "pygments_lexer": "ipython3",
   "version": "3.11.5"
  }
 },
 "nbformat": 4,
 "nbformat_minor": 2
}
