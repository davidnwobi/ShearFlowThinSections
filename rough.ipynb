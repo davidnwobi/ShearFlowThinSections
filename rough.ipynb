{
 "cells": [
  {
   "cell_type": "code",
   "execution_count": 5,
   "id": "791feab7a64f70be",
   "metadata": {
    "ExecuteTime": {
     "end_time": "2024-03-21T13:39:40.213853Z",
     "start_time": "2024-03-21T13:39:39.678121400Z"
    },
    "collapsed": false
   },
   "outputs": [
    {
     "name": "stdout",
     "output_type": "stream",
     "text": [
      "qo = 0.155555555555556*S_y/a\n"
     ]
    },
    {
     "data": {
      "text/plain": [
       "<shape.Shape at 0x20318a75890>"
      ]
     },
     "execution_count": 5,
     "metadata": {},
     "output_type": "execute_result"
    }
   ],
   "source": [
    "from shape import Shape\n",
    "from sympy import *\n",
    "from data_setup import dimensions\n",
    "from open_section_solver import OpenSectionSolver\n",
    "from closed_section_solver import SingleClosedSectionSolver\n",
    "from IPython.core.interactiveshell import InteractiveShell\n",
    "InteractiveShell.ast_node_interactivity = 'all'\n",
    "a = symbols('a', real=True, positive=True)\n",
    "dimensions.update({'b': 2*a, 'h': sqrt(3)*a})\n",
    "A = 0.5*(0.5*1)*dimensions['b']*dimensions['h']*2\n",
    "shape = Shape(A=A)\n",
    "solver = SingleClosedSectionSolver(shape)\n",
    "solver.solve()\n"
   ]
  },
  {
   "cell_type": "code",
   "execution_count": 6,
   "id": "78f50affb0e36983",
   "metadata": {
    "ExecuteTime": {
     "end_time": "2024-03-21T13:39:40.228658100Z",
     "start_time": "2024-03-21T13:39:40.214368100Z"
    },
    "collapsed": false
   },
   "outputs": [
    {
     "name": "stdout",
     "output_type": "stream",
     "text": [
      "Shape Properties:\n"
     ]
    },
    {
     "data": {
      "text/latex": [
       "$\\displaystyle 0$"
      ],
      "text/plain": [
       "0"
      ]
     },
     "execution_count": 6,
     "metadata": {},
     "output_type": "execute_result"
    },
    {
     "name": "stdout",
     "output_type": "stream",
     "text": [
      "dz =\n"
     ]
    },
    {
     "data": {
      "text/latex": [
       "$\\displaystyle \\frac{\\sqrt{3} a}{2}$"
      ],
      "text/plain": [
       "sqrt(3)*a/2"
      ]
     },
     "execution_count": 6,
     "metadata": {},
     "output_type": "execute_result"
    },
    {
     "name": "stdout",
     "output_type": "stream",
     "text": [
      "A =\n"
     ]
    },
    {
     "data": {
      "text/latex": [
       "$\\displaystyle 1.0 \\sqrt{3} a^{2}$"
      ],
      "text/plain": [
       "1.0*sqrt(3)*a**2"
      ]
     },
     "execution_count": 6,
     "metadata": {},
     "output_type": "execute_result"
    },
    {
     "name": "stdout",
     "output_type": "stream",
     "text": [
      "Iy =\n"
     ]
    },
    {
     "data": {
      "text/latex": [
       "$\\displaystyle a^{3} t$"
      ],
      "text/plain": [
       "a**3*t"
      ]
     },
     "execution_count": 6,
     "metadata": {},
     "output_type": "execute_result"
    },
    {
     "name": "stdout",
     "output_type": "stream",
     "text": [
      "Iz =\n"
     ]
    },
    {
     "data": {
      "text/latex": [
       "$\\displaystyle \\frac{3 a^{3} t}{2}$"
      ],
      "text/plain": [
       "3*a**3*t/2"
      ]
     },
     "execution_count": 6,
     "metadata": {},
     "output_type": "execute_result"
    },
    {
     "name": "stdout",
     "output_type": "stream",
     "text": [
      "Iyz =\n"
     ]
    },
    {
     "data": {
      "text/latex": [
       "$\\displaystyle 0$"
      ],
      "text/plain": [
       "0"
      ]
     },
     "execution_count": 6,
     "metadata": {},
     "output_type": "execute_result"
    },
    {
     "name": "stdout",
     "output_type": "stream",
     "text": [
      "Ey =\n"
     ]
    },
    {
     "data": {
      "text/latex": [
       "$\\displaystyle 0$"
      ],
      "text/plain": [
       "0"
      ]
     },
     "execution_count": 6,
     "metadata": {},
     "output_type": "execute_result"
    },
    {
     "name": "stdout",
     "output_type": "stream",
     "text": [
      "Ez =\n"
     ]
    },
    {
     "data": {
      "text/latex": [
       "$\\displaystyle 0.111111111111111 \\sqrt{3} a$"
      ],
      "text/plain": [
       "0.111111111111111*sqrt(3)*a"
      ]
     },
     "execution_count": 6,
     "metadata": {},
     "output_type": "execute_result"
    },
    {
     "name": "stdout",
     "output_type": "stream",
     "text": [
      "qo =\n"
     ]
    },
    {
     "data": {
      "text/latex": [
       "$\\displaystyle \\frac{0.155555555555556 S_{y}}{a}$"
      ],
      "text/plain": [
       "0.155555555555556*S_y/a"
      ]
     },
     "execution_count": 6,
     "metadata": {},
     "output_type": "execute_result"
    },
    {
     "name": "stdout",
     "output_type": "stream",
     "text": [
      "Element Properties:\n"
     ]
    }
   ],
   "source": [
    "print('Shape Properties:')\n",
    "shape.dy\n",
    "print('dz =')\n",
    "shape.dz\n",
    "print('A =')\n",
    "shape.A\n",
    "print('Iy =')\n",
    "shape.Iy\n",
    "print('Iz =')\n",
    "shape.Iz\n",
    "print('Iyz =')\n",
    "shape.Iyz\n",
    "print('Ey =')\n",
    "shape.ey\n",
    "print('Ez =')\n",
    "shape.ez\n",
    "print('qo =')\n",
    "shape.qo\n",
    "print('Element Properties:')"
   ]
  },
  {
   "cell_type": "code",
   "execution_count": 7,
   "id": "c3a60090",
   "metadata": {
    "ExecuteTime": {
     "end_time": "2024-03-21T13:39:44.091422Z",
     "start_time": "2024-03-21T13:39:43.584770100Z"
    }
   },
   "outputs": [
    {
     "name": "stdout",
     "output_type": "stream",
     "text": [
      "Element 0:\n",
      "l =\n"
     ]
    },
    {
     "data": {
      "text/latex": [
       "$\\displaystyle 1.0 a$"
      ],
      "text/plain": [
       "1.0*a"
      ]
     },
     "execution_count": 7,
     "metadata": {},
     "output_type": "execute_result"
    },
    {
     "name": "stdout",
     "output_type": "stream",
     "text": [
      "t =\n"
     ]
    },
    {
     "data": {
      "text/latex": [
       "$\\displaystyle t$"
      ],
      "text/plain": [
       "t"
      ]
     },
     "execution_count": 7,
     "metadata": {},
     "output_type": "execute_result"
    },
    {
     "name": "stdout",
     "output_type": "stream",
     "text": [
      "ty =\n"
     ]
    },
    {
     "data": {
      "text/latex": [
       "$\\displaystyle 0.5 S_{01} t$"
      ],
      "text/plain": [
       "0.5*S_01*t"
      ]
     },
     "execution_count": 7,
     "metadata": {},
     "output_type": "execute_result"
    },
    {
     "name": "stdout",
     "output_type": "stream",
     "text": [
      "tz =\n"
     ]
    },
    {
     "data": {
      "text/latex": [
       "$\\displaystyle t \\left(0.5 \\sqrt{3} S_{01} - \\frac{\\sqrt{3} a}{2}\\right)$"
      ],
      "text/plain": [
       "t*(0.5*sqrt(3)*S_01 - sqrt(3)*a/2)"
      ]
     },
     "execution_count": 7,
     "metadata": {},
     "output_type": "execute_result"
    },
    {
     "name": "stdout",
     "output_type": "stream",
     "text": [
      "Int_ty =\n"
     ]
    },
    {
     "data": {
      "text/latex": [
       "$\\displaystyle \\frac{S_{01}^{2} t}{4}$"
      ],
      "text/plain": [
       "S_01**2*t/4"
      ]
     },
     "execution_count": 7,
     "metadata": {},
     "output_type": "execute_result"
    },
    {
     "name": "stdout",
     "output_type": "stream",
     "text": [
      "Int_tz =\n"
     ]
    },
    {
     "data": {
      "text/latex": [
       "$\\displaystyle \\frac{\\sqrt{3} S_{01}^{2} t}{4} - \\frac{\\sqrt{3} S_{01} a t}{2}$"
      ],
      "text/plain": [
       "sqrt(3)*S_01**2*t/4 - sqrt(3)*S_01*a*t/2"
      ]
     },
     "execution_count": 7,
     "metadata": {},
     "output_type": "execute_result"
    },
    {
     "name": "stdout",
     "output_type": "stream",
     "text": [
      "Int_ty at Node1 =\n"
     ]
    },
    {
     "data": {
      "text/latex": [
       "$\\displaystyle 0$"
      ],
      "text/plain": [
       "0"
      ]
     },
     "execution_count": 7,
     "metadata": {},
     "output_type": "execute_result"
    },
    {
     "name": "stdout",
     "output_type": "stream",
     "text": [
      "Int_ty at Node2 =\n"
     ]
    },
    {
     "data": {
      "text/latex": [
       "$\\displaystyle 0.25 a^{2} t$"
      ],
      "text/plain": [
       "0.25*a**2*t"
      ]
     },
     "execution_count": 7,
     "metadata": {},
     "output_type": "execute_result"
    },
    {
     "name": "stdout",
     "output_type": "stream",
     "text": [
      "Int_tz at Node1 =\n"
     ]
    },
    {
     "data": {
      "text/latex": [
       "$\\displaystyle 0$"
      ],
      "text/plain": [
       "0"
      ]
     },
     "execution_count": 7,
     "metadata": {},
     "output_type": "execute_result"
    },
    {
     "name": "stdout",
     "output_type": "stream",
     "text": [
      "Int_tz at Node2 =\n"
     ]
    },
    {
     "data": {
      "text/latex": [
       "$\\displaystyle - 0.25 \\sqrt{3} a^{2} t$"
      ],
      "text/plain": [
       "-0.25*sqrt(3)*a**2*t"
      ]
     },
     "execution_count": 7,
     "metadata": {},
     "output_type": "execute_result"
    },
    {
     "name": "stdout",
     "output_type": "stream",
     "text": [
      "qb =\n"
     ]
    },
    {
     "data": {
      "text/latex": [
       "$\\displaystyle - \\frac{S_{01}^{2} S_{y}}{6 a^{3}}$"
      ],
      "text/plain": [
       "-S_01**2*S_y/(6*a**3)"
      ]
     },
     "execution_count": 7,
     "metadata": {},
     "output_type": "execute_result"
    },
    {
     "name": "stdout",
     "output_type": "stream",
     "text": [
      "qb at Node1 =\n"
     ]
    },
    {
     "data": {
      "text/latex": [
       "$\\displaystyle 0$"
      ],
      "text/plain": [
       "0"
      ]
     },
     "execution_count": 7,
     "metadata": {},
     "output_type": "execute_result"
    },
    {
     "name": "stdout",
     "output_type": "stream",
     "text": [
      "qb at Node2 =\n"
     ]
    },
    {
     "data": {
      "text/latex": [
       "$\\displaystyle - \\frac{0.166666666666667 S_{y}}{a}$"
      ],
      "text/plain": [
       "-0.166666666666667*S_y/a"
      ]
     },
     "execution_count": 7,
     "metadata": {},
     "output_type": "execute_result"
    },
    {
     "name": "stdout",
     "output_type": "stream",
     "text": [
      "qs =\n"
     ]
    },
    {
     "data": {
      "text/latex": [
       "$\\displaystyle \\frac{S_{y} \\left(- S_{01}^{2} + 0.933333333333333 a^{2}\\right)}{6 a^{3}}$"
      ],
      "text/plain": [
       "S_y*(-S_01**2 + 0.933333333333333*a**2)/(6*a**3)"
      ]
     },
     "execution_count": 7,
     "metadata": {},
     "output_type": "execute_result"
    },
    {
     "name": "stdout",
     "output_type": "stream",
     "text": [
      "qs at Node1 =\n"
     ]
    },
    {
     "data": {
      "text/latex": [
       "$\\displaystyle \\frac{0.155555555555556 S_{y}}{a}$"
      ],
      "text/plain": [
       "0.155555555555556*S_y/a"
      ]
     },
     "execution_count": 7,
     "metadata": {},
     "output_type": "execute_result"
    },
    {
     "name": "stdout",
     "output_type": "stream",
     "text": [
      "qs at Node2 =\n"
     ]
    },
    {
     "data": {
      "text/latex": [
       "$\\displaystyle - \\frac{0.0111111111111111 S_{y}}{a}$"
      ],
      "text/plain": [
       "-0.0111111111111111*S_y/a"
      ]
     },
     "execution_count": 7,
     "metadata": {},
     "output_type": "execute_result"
    },
    {
     "name": "stdout",
     "output_type": "stream",
     "text": [
      "Qb =\n"
     ]
    },
    {
     "data": {
      "text/latex": [
       "$\\displaystyle - \\frac{S_{y}}{18}$"
      ],
      "text/plain": [
       "-S_y/18"
      ]
     },
     "execution_count": 7,
     "metadata": {},
     "output_type": "execute_result"
    },
    {
     "name": "stdout",
     "output_type": "stream",
     "text": [
      "Q =\n"
     ]
    },
    {
     "data": {
      "text/latex": [
       "$\\displaystyle 0.1 S_{y}$"
      ],
      "text/plain": [
       "0.1*S_y"
      ]
     },
     "execution_count": 7,
     "metadata": {},
     "output_type": "execute_result"
    },
    {
     "name": "stdout",
     "output_type": "stream",
     "text": [
      "Taub =\n"
     ]
    },
    {
     "data": {
      "text/latex": [
       "$\\displaystyle - \\frac{S_{01}^{2} S_{y}}{6 a^{3} t}$"
      ],
      "text/plain": [
       "-S_01**2*S_y/(6*a**3*t)"
      ]
     },
     "execution_count": 7,
     "metadata": {},
     "output_type": "execute_result"
    },
    {
     "name": "stdout",
     "output_type": "stream",
     "text": [
      "Tau =\n"
     ]
    },
    {
     "data": {
      "text/latex": [
       "$\\displaystyle \\frac{S_{y} \\left(- S_{01}^{2} + 0.933333333333333 a^{2}\\right)}{6 a^{3} t}$"
      ],
      "text/plain": [
       "S_y*(-S_01**2 + 0.933333333333333*a**2)/(6*a**3*t)"
      ]
     },
     "execution_count": 7,
     "metadata": {},
     "output_type": "execute_result"
    },
    {
     "name": "stdout",
     "output_type": "stream",
     "text": [
      "\n",
      "\n",
      "Element 1:\n",
      "l =\n"
     ]
    },
    {
     "data": {
      "text/latex": [
       "$\\displaystyle 1.0 a$"
      ],
      "text/plain": [
       "1.0*a"
      ]
     },
     "execution_count": 7,
     "metadata": {},
     "output_type": "execute_result"
    },
    {
     "name": "stdout",
     "output_type": "stream",
     "text": [
      "t =\n"
     ]
    },
    {
     "data": {
      "text/latex": [
       "$\\displaystyle t$"
      ],
      "text/plain": [
       "t"
      ]
     },
     "execution_count": 7,
     "metadata": {},
     "output_type": "execute_result"
    },
    {
     "name": "stdout",
     "output_type": "stream",
     "text": [
      "ty =\n"
     ]
    },
    {
     "data": {
      "text/latex": [
       "$\\displaystyle t \\left(0.5 S_{12} + 0.5 a\\right)$"
      ],
      "text/plain": [
       "t*(0.5*S_12 + 0.5*a)"
      ]
     },
     "execution_count": 7,
     "metadata": {},
     "output_type": "execute_result"
    },
    {
     "name": "stdout",
     "output_type": "stream",
     "text": [
      "tz =\n"
     ]
    },
    {
     "data": {
      "text/latex": [
       "$\\displaystyle 0.5 \\sqrt{3} S_{12} t$"
      ],
      "text/plain": [
       "0.5*sqrt(3)*S_12*t"
      ]
     },
     "execution_count": 7,
     "metadata": {},
     "output_type": "execute_result"
    },
    {
     "name": "stdout",
     "output_type": "stream",
     "text": [
      "Int_ty =\n"
     ]
    },
    {
     "data": {
      "text/latex": [
       "$\\displaystyle \\frac{S_{12}^{2} t}{4} + \\frac{S_{12} a t}{2} - \\frac{3 a^{2} t}{4}$"
      ],
      "text/plain": [
       "S_12**2*t/4 + S_12*a*t/2 - 3*a**2*t/4"
      ]
     },
     "execution_count": 7,
     "metadata": {},
     "output_type": "execute_result"
    },
    {
     "name": "stdout",
     "output_type": "stream",
     "text": [
      "Int_tz =\n"
     ]
    },
    {
     "data": {
      "text/latex": [
       "$\\displaystyle \\frac{\\sqrt{3} S_{12}^{2} t}{4} - \\frac{\\sqrt{3} a^{2} t}{4}$"
      ],
      "text/plain": [
       "sqrt(3)*S_12**2*t/4 - sqrt(3)*a**2*t/4"
      ]
     },
     "execution_count": 7,
     "metadata": {},
     "output_type": "execute_result"
    },
    {
     "name": "stdout",
     "output_type": "stream",
     "text": [
      "Int_ty at Node1 =\n"
     ]
    },
    {
     "data": {
      "text/latex": [
       "$\\displaystyle - \\frac{3 a^{2} t}{4}$"
      ],
      "text/plain": [
       "-3*a**2*t/4"
      ]
     },
     "execution_count": 7,
     "metadata": {},
     "output_type": "execute_result"
    },
    {
     "name": "stdout",
     "output_type": "stream",
     "text": [
      "Int_ty at Node2 =\n"
     ]
    },
    {
     "data": {
      "text/latex": [
       "$\\displaystyle 0$"
      ],
      "text/plain": [
       "0"
      ]
     },
     "execution_count": 7,
     "metadata": {},
     "output_type": "execute_result"
    },
    {
     "name": "stdout",
     "output_type": "stream",
     "text": [
      "Int_tz at Node1 =\n"
     ]
    },
    {
     "data": {
      "text/latex": [
       "$\\displaystyle - \\frac{\\sqrt{3} a^{2} t}{4}$"
      ],
      "text/plain": [
       "-sqrt(3)*a**2*t/4"
      ]
     },
     "execution_count": 7,
     "metadata": {},
     "output_type": "execute_result"
    },
    {
     "name": "stdout",
     "output_type": "stream",
     "text": [
      "Int_tz at Node2 =\n"
     ]
    },
    {
     "data": {
      "text/latex": [
       "$\\displaystyle 0$"
      ],
      "text/plain": [
       "0"
      ]
     },
     "execution_count": 7,
     "metadata": {},
     "output_type": "execute_result"
    },
    {
     "name": "stdout",
     "output_type": "stream",
     "text": [
      "qb =\n"
     ]
    },
    {
     "data": {
      "text/latex": [
       "$\\displaystyle - \\frac{2 S_{y} \\left(\\frac{S_{12}^{2} t}{4} + \\frac{S_{12} a t}{2} - \\frac{3 a^{2} t}{4}\\right)}{3 a^{3} t}$"
      ],
      "text/plain": [
       "-2*S_y*(S_12**2*t/4 + S_12*a*t/2 - 3*a**2*t/4)/(3*a**3*t)"
      ]
     },
     "execution_count": 7,
     "metadata": {},
     "output_type": "execute_result"
    },
    {
     "name": "stdout",
     "output_type": "stream",
     "text": [
      "qb at Node1 =\n"
     ]
    },
    {
     "data": {
      "text/latex": [
       "$\\displaystyle \\frac{S_{y}}{2 a}$"
      ],
      "text/plain": [
       "S_y/(2*a)"
      ]
     },
     "execution_count": 7,
     "metadata": {},
     "output_type": "execute_result"
    },
    {
     "name": "stdout",
     "output_type": "stream",
     "text": [
      "qb at Node2 =\n"
     ]
    },
    {
     "data": {
      "text/latex": [
       "$\\displaystyle 0$"
      ],
      "text/plain": [
       "0"
      ]
     },
     "execution_count": 7,
     "metadata": {},
     "output_type": "execute_result"
    },
    {
     "name": "stdout",
     "output_type": "stream",
     "text": [
      "qs =\n"
     ]
    },
    {
     "data": {
      "text/latex": [
       "$\\displaystyle \\frac{S_{y} \\left(- S_{12}^{2} - 2 S_{12} a + 3.93333333333333 a^{2}\\right)}{6 a^{3}}$"
      ],
      "text/plain": [
       "S_y*(-S_12**2 - 2*S_12*a + 3.93333333333333*a**2)/(6*a**3)"
      ]
     },
     "execution_count": 7,
     "metadata": {},
     "output_type": "execute_result"
    },
    {
     "name": "stdout",
     "output_type": "stream",
     "text": [
      "qs at Node1 =\n"
     ]
    },
    {
     "data": {
      "text/latex": [
       "$\\displaystyle \\frac{0.655555555555556 S_{y}}{a}$"
      ],
      "text/plain": [
       "0.655555555555556*S_y/a"
      ]
     },
     "execution_count": 7,
     "metadata": {},
     "output_type": "execute_result"
    },
    {
     "name": "stdout",
     "output_type": "stream",
     "text": [
      "qs at Node2 =\n"
     ]
    },
    {
     "data": {
      "text/latex": [
       "$\\displaystyle \\frac{0.155555555555556 S_{y}}{a}$"
      ],
      "text/plain": [
       "0.155555555555556*S_y/a"
      ]
     },
     "execution_count": 7,
     "metadata": {},
     "output_type": "execute_result"
    },
    {
     "name": "stdout",
     "output_type": "stream",
     "text": [
      "Qb =\n"
     ]
    },
    {
     "data": {
      "text/latex": [
       "$\\displaystyle \\frac{5 S_{y}}{18}$"
      ],
      "text/plain": [
       "5*S_y/18"
      ]
     },
     "execution_count": 7,
     "metadata": {},
     "output_type": "execute_result"
    },
    {
     "name": "stdout",
     "output_type": "stream",
     "text": [
      "Q =\n"
     ]
    },
    {
     "data": {
      "text/latex": [
       "$\\displaystyle 0.433333333333333 S_{y}$"
      ],
      "text/plain": [
       "0.433333333333333*S_y"
      ]
     },
     "execution_count": 7,
     "metadata": {},
     "output_type": "execute_result"
    },
    {
     "name": "stdout",
     "output_type": "stream",
     "text": [
      "Taub =\n"
     ]
    },
    {
     "data": {
      "text/latex": [
       "$\\displaystyle - \\frac{2 S_{y} \\left(\\frac{S_{12}^{2} t}{4} + \\frac{S_{12} a t}{2} - \\frac{3 a^{2} t}{4}\\right)}{3 a^{3} t^{2}}$"
      ],
      "text/plain": [
       "-2*S_y*(S_12**2*t/4 + S_12*a*t/2 - 3*a**2*t/4)/(3*a**3*t**2)"
      ]
     },
     "execution_count": 7,
     "metadata": {},
     "output_type": "execute_result"
    },
    {
     "name": "stdout",
     "output_type": "stream",
     "text": [
      "Tau =\n"
     ]
    },
    {
     "data": {
      "text/latex": [
       "$\\displaystyle \\frac{S_{y} \\left(- S_{12}^{2} - 2 S_{12} a + 3.93333333333333 a^{2}\\right)}{6 a^{3} t}$"
      ],
      "text/plain": [
       "S_y*(-S_12**2 - 2*S_12*a + 3.93333333333333*a**2)/(6*a**3*t)"
      ]
     },
     "execution_count": 7,
     "metadata": {},
     "output_type": "execute_result"
    },
    {
     "name": "stdout",
     "output_type": "stream",
     "text": [
      "\n",
      "\n",
      "Element 2:\n",
      "l =\n"
     ]
    },
    {
     "data": {
      "text/latex": [
       "$\\displaystyle 1.0 a$"
      ],
      "text/plain": [
       "1.0*a"
      ]
     },
     "execution_count": 7,
     "metadata": {},
     "output_type": "execute_result"
    },
    {
     "name": "stdout",
     "output_type": "stream",
     "text": [
      "t =\n"
     ]
    },
    {
     "data": {
      "text/latex": [
       "$\\displaystyle 2 t$"
      ],
      "text/plain": [
       "2*t"
      ]
     },
     "execution_count": 7,
     "metadata": {},
     "output_type": "execute_result"
    },
    {
     "name": "stdout",
     "output_type": "stream",
     "text": [
      "ty =\n"
     ]
    },
    {
     "data": {
      "text/latex": [
       "$\\displaystyle 2 t \\left(- 1.0 S_{14} + 0.5 a\\right)$"
      ],
      "text/plain": [
       "2*t*(-1.0*S_14 + 0.5*a)"
      ]
     },
     "execution_count": 7,
     "metadata": {},
     "output_type": "execute_result"
    },
    {
     "name": "stdout",
     "output_type": "stream",
     "text": [
      "tz =\n"
     ]
    },
    {
     "data": {
      "text/latex": [
       "$\\displaystyle 0$"
      ],
      "text/plain": [
       "0"
      ]
     },
     "execution_count": 7,
     "metadata": {},
     "output_type": "execute_result"
    },
    {
     "name": "stdout",
     "output_type": "stream",
     "text": [
      "Int_ty =\n"
     ]
    },
    {
     "data": {
      "text/latex": [
       "$\\displaystyle - S_{14}^{2} t + S_{14} a t + a^{2} t$"
      ],
      "text/plain": [
       "-S_14**2*t + S_14*a*t + a**2*t"
      ]
     },
     "execution_count": 7,
     "metadata": {},
     "output_type": "execute_result"
    },
    {
     "name": "stdout",
     "output_type": "stream",
     "text": [
      "Int_tz =\n"
     ]
    },
    {
     "data": {
      "text/latex": [
       "$\\displaystyle 0$"
      ],
      "text/plain": [
       "0"
      ]
     },
     "execution_count": 7,
     "metadata": {},
     "output_type": "execute_result"
    },
    {
     "name": "stdout",
     "output_type": "stream",
     "text": [
      "Int_ty at Node1 =\n"
     ]
    },
    {
     "data": {
      "text/latex": [
       "$\\displaystyle a^{2} t$"
      ],
      "text/plain": [
       "a**2*t"
      ]
     },
     "execution_count": 7,
     "metadata": {},
     "output_type": "execute_result"
    },
    {
     "name": "stdout",
     "output_type": "stream",
     "text": [
      "Int_ty at Node2 =\n"
     ]
    },
    {
     "data": {
      "text/latex": [
       "$\\displaystyle 1.0 a^{2} t$"
      ],
      "text/plain": [
       "1.0*a**2*t"
      ]
     },
     "execution_count": 7,
     "metadata": {},
     "output_type": "execute_result"
    },
    {
     "name": "stdout",
     "output_type": "stream",
     "text": [
      "Int_tz at Node1 =\n"
     ]
    },
    {
     "data": {
      "text/latex": [
       "$\\displaystyle 0$"
      ],
      "text/plain": [
       "0"
      ]
     },
     "execution_count": 7,
     "metadata": {},
     "output_type": "execute_result"
    },
    {
     "name": "stdout",
     "output_type": "stream",
     "text": [
      "Int_tz at Node2 =\n"
     ]
    },
    {
     "data": {
      "text/latex": [
       "$\\displaystyle 0$"
      ],
      "text/plain": [
       "0"
      ]
     },
     "execution_count": 7,
     "metadata": {},
     "output_type": "execute_result"
    },
    {
     "name": "stdout",
     "output_type": "stream",
     "text": [
      "qb =\n"
     ]
    },
    {
     "data": {
      "text/latex": [
       "$\\displaystyle - \\frac{2 S_{y} \\left(- S_{14}^{2} t + S_{14} a t + a^{2} t\\right)}{3 a^{3} t}$"
      ],
      "text/plain": [
       "-2*S_y*(-S_14**2*t + S_14*a*t + a**2*t)/(3*a**3*t)"
      ]
     },
     "execution_count": 7,
     "metadata": {},
     "output_type": "execute_result"
    },
    {
     "name": "stdout",
     "output_type": "stream",
     "text": [
      "qb at Node1 =\n"
     ]
    },
    {
     "data": {
      "text/latex": [
       "$\\displaystyle - \\frac{2 S_{y}}{3 a}$"
      ],
      "text/plain": [
       "-2*S_y/(3*a)"
      ]
     },
     "execution_count": 7,
     "metadata": {},
     "output_type": "execute_result"
    },
    {
     "name": "stdout",
     "output_type": "stream",
     "text": [
      "qb at Node2 =\n"
     ]
    },
    {
     "data": {
      "text/latex": [
       "$\\displaystyle - \\frac{0.666666666666667 S_{y}}{a}$"
      ],
      "text/plain": [
       "-0.666666666666667*S_y/a"
      ]
     },
     "execution_count": 7,
     "metadata": {},
     "output_type": "execute_result"
    },
    {
     "name": "stdout",
     "output_type": "stream",
     "text": [
      "qs =\n"
     ]
    },
    {
     "data": {
      "text/latex": [
       "$\\displaystyle \\frac{S_{y} \\left(2 S_{14}^{2} - 2 S_{14} a - 1.53333333333333 a^{2}\\right)}{3 a^{3}}$"
      ],
      "text/plain": [
       "S_y*(2*S_14**2 - 2*S_14*a - 1.53333333333333*a**2)/(3*a**3)"
      ]
     },
     "execution_count": 7,
     "metadata": {},
     "output_type": "execute_result"
    },
    {
     "name": "stdout",
     "output_type": "stream",
     "text": [
      "qs at Node1 =\n"
     ]
    },
    {
     "data": {
      "text/latex": [
       "$\\displaystyle - \\frac{0.511111111111111 S_{y}}{a}$"
      ],
      "text/plain": [
       "-0.511111111111111*S_y/a"
      ]
     },
     "execution_count": 7,
     "metadata": {},
     "output_type": "execute_result"
    },
    {
     "name": "stdout",
     "output_type": "stream",
     "text": [
      "qs at Node2 =\n"
     ]
    },
    {
     "data": {
      "text/latex": [
       "$\\displaystyle - \\frac{0.511111111111111 S_{y}}{a}$"
      ],
      "text/plain": [
       "-0.511111111111111*S_y/a"
      ]
     },
     "execution_count": 7,
     "metadata": {},
     "output_type": "execute_result"
    },
    {
     "name": "stdout",
     "output_type": "stream",
     "text": [
      "Qb =\n"
     ]
    },
    {
     "data": {
      "text/latex": [
       "$\\displaystyle - \\frac{7 S_{y}}{9}$"
      ],
      "text/plain": [
       "-7*S_y/9"
      ]
     },
     "execution_count": 7,
     "metadata": {},
     "output_type": "execute_result"
    },
    {
     "name": "stdout",
     "output_type": "stream",
     "text": [
      "Q =\n"
     ]
    },
    {
     "data": {
      "text/latex": [
       "$\\displaystyle - 0.622222222222222 S_{y}$"
      ],
      "text/plain": [
       "-0.622222222222222*S_y"
      ]
     },
     "execution_count": 7,
     "metadata": {},
     "output_type": "execute_result"
    },
    {
     "name": "stdout",
     "output_type": "stream",
     "text": [
      "Taub =\n"
     ]
    },
    {
     "data": {
      "text/latex": [
       "$\\displaystyle - \\frac{S_{y} \\left(- S_{14}^{2} t + S_{14} a t + a^{2} t\\right)}{3 a^{3} t^{2}}$"
      ],
      "text/plain": [
       "-S_y*(-S_14**2*t + S_14*a*t + a**2*t)/(3*a**3*t**2)"
      ]
     },
     "execution_count": 7,
     "metadata": {},
     "output_type": "execute_result"
    },
    {
     "name": "stdout",
     "output_type": "stream",
     "text": [
      "Tau =\n"
     ]
    },
    {
     "data": {
      "text/latex": [
       "$\\displaystyle \\frac{S_{y} \\left(S_{14}^{2} - S_{14} a - 0.766666666666667 a^{2}\\right)}{3 a^{3} t}$"
      ],
      "text/plain": [
       "S_y*(S_14**2 - S_14*a - 0.766666666666667*a**2)/(3*a**3*t)"
      ]
     },
     "execution_count": 7,
     "metadata": {},
     "output_type": "execute_result"
    },
    {
     "name": "stdout",
     "output_type": "stream",
     "text": [
      "\n",
      "\n",
      "Element 3:\n",
      "l =\n"
     ]
    },
    {
     "data": {
      "text/latex": [
       "$\\displaystyle 1.0 a$"
      ],
      "text/plain": [
       "1.0*a"
      ]
     },
     "execution_count": 7,
     "metadata": {},
     "output_type": "execute_result"
    },
    {
     "name": "stdout",
     "output_type": "stream",
     "text": [
      "t =\n"
     ]
    },
    {
     "data": {
      "text/latex": [
       "$\\displaystyle t$"
      ],
      "text/plain": [
       "t"
      ]
     },
     "execution_count": 7,
     "metadata": {},
     "output_type": "execute_result"
    },
    {
     "name": "stdout",
     "output_type": "stream",
     "text": [
      "ty =\n"
     ]
    },
    {
     "data": {
      "text/latex": [
       "$\\displaystyle - 0.5 S_{34} t$"
      ],
      "text/plain": [
       "-0.5*S_34*t"
      ]
     },
     "execution_count": 7,
     "metadata": {},
     "output_type": "execute_result"
    },
    {
     "name": "stdout",
     "output_type": "stream",
     "text": [
      "tz =\n"
     ]
    },
    {
     "data": {
      "text/latex": [
       "$\\displaystyle t \\left(0.5 \\sqrt{3} S_{34} - \\frac{\\sqrt{3} a}{2}\\right)$"
      ],
      "text/plain": [
       "t*(0.5*sqrt(3)*S_34 - sqrt(3)*a/2)"
      ]
     },
     "execution_count": 7,
     "metadata": {},
     "output_type": "execute_result"
    },
    {
     "name": "stdout",
     "output_type": "stream",
     "text": [
      "Int_ty =\n"
     ]
    },
    {
     "data": {
      "text/latex": [
       "$\\displaystyle - \\frac{S_{34}^{2} t}{4}$"
      ],
      "text/plain": [
       "-S_34**2*t/4"
      ]
     },
     "execution_count": 7,
     "metadata": {},
     "output_type": "execute_result"
    },
    {
     "name": "stdout",
     "output_type": "stream",
     "text": [
      "Int_tz =\n"
     ]
    },
    {
     "data": {
      "text/latex": [
       "$\\displaystyle \\frac{\\sqrt{3} S_{34}^{2} t}{4} - \\frac{\\sqrt{3} S_{34} a t}{2}$"
      ],
      "text/plain": [
       "sqrt(3)*S_34**2*t/4 - sqrt(3)*S_34*a*t/2"
      ]
     },
     "execution_count": 7,
     "metadata": {},
     "output_type": "execute_result"
    },
    {
     "name": "stdout",
     "output_type": "stream",
     "text": [
      "Int_ty at Node1 =\n"
     ]
    },
    {
     "data": {
      "text/latex": [
       "$\\displaystyle 0$"
      ],
      "text/plain": [
       "0"
      ]
     },
     "execution_count": 7,
     "metadata": {},
     "output_type": "execute_result"
    },
    {
     "name": "stdout",
     "output_type": "stream",
     "text": [
      "Int_ty at Node2 =\n"
     ]
    },
    {
     "data": {
      "text/latex": [
       "$\\displaystyle - 0.25 a^{2} t$"
      ],
      "text/plain": [
       "-0.25*a**2*t"
      ]
     },
     "execution_count": 7,
     "metadata": {},
     "output_type": "execute_result"
    },
    {
     "name": "stdout",
     "output_type": "stream",
     "text": [
      "Int_tz at Node1 =\n"
     ]
    },
    {
     "data": {
      "text/latex": [
       "$\\displaystyle 0$"
      ],
      "text/plain": [
       "0"
      ]
     },
     "execution_count": 7,
     "metadata": {},
     "output_type": "execute_result"
    },
    {
     "name": "stdout",
     "output_type": "stream",
     "text": [
      "Int_tz at Node2 =\n"
     ]
    },
    {
     "data": {
      "text/latex": [
       "$\\displaystyle - 0.25 \\sqrt{3} a^{2} t$"
      ],
      "text/plain": [
       "-0.25*sqrt(3)*a**2*t"
      ]
     },
     "execution_count": 7,
     "metadata": {},
     "output_type": "execute_result"
    },
    {
     "name": "stdout",
     "output_type": "stream",
     "text": [
      "qb =\n"
     ]
    },
    {
     "data": {
      "text/latex": [
       "$\\displaystyle \\frac{S_{34}^{2} S_{y}}{6 a^{3}}$"
      ],
      "text/plain": [
       "S_34**2*S_y/(6*a**3)"
      ]
     },
     "execution_count": 7,
     "metadata": {},
     "output_type": "execute_result"
    },
    {
     "name": "stdout",
     "output_type": "stream",
     "text": [
      "qb at Node1 =\n"
     ]
    },
    {
     "data": {
      "text/latex": [
       "$\\displaystyle 0$"
      ],
      "text/plain": [
       "0"
      ]
     },
     "execution_count": 7,
     "metadata": {},
     "output_type": "execute_result"
    },
    {
     "name": "stdout",
     "output_type": "stream",
     "text": [
      "qb at Node2 =\n"
     ]
    },
    {
     "data": {
      "text/latex": [
       "$\\displaystyle \\frac{0.166666666666667 S_{y}}{a}$"
      ],
      "text/plain": [
       "0.166666666666667*S_y/a"
      ]
     },
     "execution_count": 7,
     "metadata": {},
     "output_type": "execute_result"
    },
    {
     "name": "stdout",
     "output_type": "stream",
     "text": [
      "qs =\n"
     ]
    },
    {
     "data": {
      "text/latex": [
       "$\\displaystyle \\frac{S_{y} \\left(S_{34}^{2} + 0.933333333333333 a^{2}\\right)}{6 a^{3}}$"
      ],
      "text/plain": [
       "S_y*(S_34**2 + 0.933333333333333*a**2)/(6*a**3)"
      ]
     },
     "execution_count": 7,
     "metadata": {},
     "output_type": "execute_result"
    },
    {
     "name": "stdout",
     "output_type": "stream",
     "text": [
      "qs at Node1 =\n"
     ]
    },
    {
     "data": {
      "text/latex": [
       "$\\displaystyle \\frac{0.155555555555556 S_{y}}{a}$"
      ],
      "text/plain": [
       "0.155555555555556*S_y/a"
      ]
     },
     "execution_count": 7,
     "metadata": {},
     "output_type": "execute_result"
    },
    {
     "name": "stdout",
     "output_type": "stream",
     "text": [
      "qs at Node2 =\n"
     ]
    },
    {
     "data": {
      "text/latex": [
       "$\\displaystyle \\frac{0.322222222222222 S_{y}}{a}$"
      ],
      "text/plain": [
       "0.322222222222222*S_y/a"
      ]
     },
     "execution_count": 7,
     "metadata": {},
     "output_type": "execute_result"
    },
    {
     "name": "stdout",
     "output_type": "stream",
     "text": [
      "Qb =\n"
     ]
    },
    {
     "data": {
      "text/latex": [
       "$\\displaystyle \\frac{S_{y}}{18}$"
      ],
      "text/plain": [
       "S_y/18"
      ]
     },
     "execution_count": 7,
     "metadata": {},
     "output_type": "execute_result"
    },
    {
     "name": "stdout",
     "output_type": "stream",
     "text": [
      "Q =\n"
     ]
    },
    {
     "data": {
      "text/latex": [
       "$\\displaystyle 0.211111111111111 S_{y}$"
      ],
      "text/plain": [
       "0.211111111111111*S_y"
      ]
     },
     "execution_count": 7,
     "metadata": {},
     "output_type": "execute_result"
    },
    {
     "name": "stdout",
     "output_type": "stream",
     "text": [
      "Taub =\n"
     ]
    },
    {
     "data": {
      "text/latex": [
       "$\\displaystyle \\frac{S_{34}^{2} S_{y}}{6 a^{3} t}$"
      ],
      "text/plain": [
       "S_34**2*S_y/(6*a**3*t)"
      ]
     },
     "execution_count": 7,
     "metadata": {},
     "output_type": "execute_result"
    },
    {
     "name": "stdout",
     "output_type": "stream",
     "text": [
      "Tau =\n"
     ]
    },
    {
     "data": {
      "text/latex": [
       "$\\displaystyle \\frac{S_{y} \\left(S_{34}^{2} + 0.933333333333333 a^{2}\\right)}{6 a^{3} t}$"
      ],
      "text/plain": [
       "S_y*(S_34**2 + 0.933333333333333*a**2)/(6*a**3*t)"
      ]
     },
     "execution_count": 7,
     "metadata": {},
     "output_type": "execute_result"
    },
    {
     "name": "stdout",
     "output_type": "stream",
     "text": [
      "\n",
      "\n",
      "Element 4:\n",
      "l =\n"
     ]
    },
    {
     "data": {
      "text/latex": [
       "$\\displaystyle 1.0 a$"
      ],
      "text/plain": [
       "1.0*a"
      ]
     },
     "execution_count": 7,
     "metadata": {},
     "output_type": "execute_result"
    },
    {
     "name": "stdout",
     "output_type": "stream",
     "text": [
      "t =\n"
     ]
    },
    {
     "data": {
      "text/latex": [
       "$\\displaystyle t$"
      ],
      "text/plain": [
       "t"
      ]
     },
     "execution_count": 7,
     "metadata": {},
     "output_type": "execute_result"
    },
    {
     "name": "stdout",
     "output_type": "stream",
     "text": [
      "ty =\n"
     ]
    },
    {
     "data": {
      "text/latex": [
       "$\\displaystyle t \\left(- 0.5 S_{45} - 0.5 a\\right)$"
      ],
      "text/plain": [
       "t*(-0.5*S_45 - 0.5*a)"
      ]
     },
     "execution_count": 7,
     "metadata": {},
     "output_type": "execute_result"
    },
    {
     "name": "stdout",
     "output_type": "stream",
     "text": [
      "tz =\n"
     ]
    },
    {
     "data": {
      "text/latex": [
       "$\\displaystyle 0.5 \\sqrt{3} S_{45} t$"
      ],
      "text/plain": [
       "0.5*sqrt(3)*S_45*t"
      ]
     },
     "execution_count": 7,
     "metadata": {},
     "output_type": "execute_result"
    },
    {
     "name": "stdout",
     "output_type": "stream",
     "text": [
      "Int_ty =\n"
     ]
    },
    {
     "data": {
      "text/latex": [
       "$\\displaystyle - \\frac{S_{45}^{2} t}{4} - \\frac{S_{45} a t}{2} + \\frac{3 a^{2} t}{4}$"
      ],
      "text/plain": [
       "-S_45**2*t/4 - S_45*a*t/2 + 3*a**2*t/4"
      ]
     },
     "execution_count": 7,
     "metadata": {},
     "output_type": "execute_result"
    },
    {
     "name": "stdout",
     "output_type": "stream",
     "text": [
      "Int_tz =\n"
     ]
    },
    {
     "data": {
      "text/latex": [
       "$\\displaystyle \\frac{\\sqrt{3} S_{45}^{2} t}{4} - \\frac{\\sqrt{3} a^{2} t}{4}$"
      ],
      "text/plain": [
       "sqrt(3)*S_45**2*t/4 - sqrt(3)*a**2*t/4"
      ]
     },
     "execution_count": 7,
     "metadata": {},
     "output_type": "execute_result"
    },
    {
     "name": "stdout",
     "output_type": "stream",
     "text": [
      "Int_ty at Node1 =\n"
     ]
    },
    {
     "data": {
      "text/latex": [
       "$\\displaystyle \\frac{3 a^{2} t}{4}$"
      ],
      "text/plain": [
       "3*a**2*t/4"
      ]
     },
     "execution_count": 7,
     "metadata": {},
     "output_type": "execute_result"
    },
    {
     "name": "stdout",
     "output_type": "stream",
     "text": [
      "Int_ty at Node2 =\n"
     ]
    },
    {
     "data": {
      "text/latex": [
       "$\\displaystyle 0$"
      ],
      "text/plain": [
       "0"
      ]
     },
     "execution_count": 7,
     "metadata": {},
     "output_type": "execute_result"
    },
    {
     "name": "stdout",
     "output_type": "stream",
     "text": [
      "Int_tz at Node1 =\n"
     ]
    },
    {
     "data": {
      "text/latex": [
       "$\\displaystyle - \\frac{\\sqrt{3} a^{2} t}{4}$"
      ],
      "text/plain": [
       "-sqrt(3)*a**2*t/4"
      ]
     },
     "execution_count": 7,
     "metadata": {},
     "output_type": "execute_result"
    },
    {
     "name": "stdout",
     "output_type": "stream",
     "text": [
      "Int_tz at Node2 =\n"
     ]
    },
    {
     "data": {
      "text/latex": [
       "$\\displaystyle 0$"
      ],
      "text/plain": [
       "0"
      ]
     },
     "execution_count": 7,
     "metadata": {},
     "output_type": "execute_result"
    },
    {
     "name": "stdout",
     "output_type": "stream",
     "text": [
      "qb =\n"
     ]
    },
    {
     "data": {
      "text/latex": [
       "$\\displaystyle - \\frac{2 S_{y} \\left(- \\frac{S_{45}^{2} t}{4} - \\frac{S_{45} a t}{2} + \\frac{3 a^{2} t}{4}\\right)}{3 a^{3} t}$"
      ],
      "text/plain": [
       "-2*S_y*(-S_45**2*t/4 - S_45*a*t/2 + 3*a**2*t/4)/(3*a**3*t)"
      ]
     },
     "execution_count": 7,
     "metadata": {},
     "output_type": "execute_result"
    },
    {
     "name": "stdout",
     "output_type": "stream",
     "text": [
      "qb at Node1 =\n"
     ]
    },
    {
     "data": {
      "text/latex": [
       "$\\displaystyle - \\frac{S_{y}}{2 a}$"
      ],
      "text/plain": [
       "-S_y/(2*a)"
      ]
     },
     "execution_count": 7,
     "metadata": {},
     "output_type": "execute_result"
    },
    {
     "name": "stdout",
     "output_type": "stream",
     "text": [
      "qb at Node2 =\n"
     ]
    },
    {
     "data": {
      "text/latex": [
       "$\\displaystyle 0$"
      ],
      "text/plain": [
       "0"
      ]
     },
     "execution_count": 7,
     "metadata": {},
     "output_type": "execute_result"
    },
    {
     "name": "stdout",
     "output_type": "stream",
     "text": [
      "qs =\n"
     ]
    },
    {
     "data": {
      "text/latex": [
       "$\\displaystyle \\frac{S_{y} \\left(S_{45}^{2} + 2 S_{45} a - 2.06666666666667 a^{2}\\right)}{6 a^{3}}$"
      ],
      "text/plain": [
       "S_y*(S_45**2 + 2*S_45*a - 2.06666666666667*a**2)/(6*a**3)"
      ]
     },
     "execution_count": 7,
     "metadata": {},
     "output_type": "execute_result"
    },
    {
     "name": "stdout",
     "output_type": "stream",
     "text": [
      "qs at Node1 =\n"
     ]
    },
    {
     "data": {
      "text/latex": [
       "$\\displaystyle - \\frac{0.344444444444444 S_{y}}{a}$"
      ],
      "text/plain": [
       "-0.344444444444444*S_y/a"
      ]
     },
     "execution_count": 7,
     "metadata": {},
     "output_type": "execute_result"
    },
    {
     "name": "stdout",
     "output_type": "stream",
     "text": [
      "qs at Node2 =\n"
     ]
    },
    {
     "data": {
      "text/latex": [
       "$\\displaystyle \\frac{0.155555555555556 S_{y}}{a}$"
      ],
      "text/plain": [
       "0.155555555555556*S_y/a"
      ]
     },
     "execution_count": 7,
     "metadata": {},
     "output_type": "execute_result"
    },
    {
     "name": "stdout",
     "output_type": "stream",
     "text": [
      "Qb =\n"
     ]
    },
    {
     "data": {
      "text/latex": [
       "$\\displaystyle - \\frac{5 S_{y}}{18}$"
      ],
      "text/plain": [
       "-5*S_y/18"
      ]
     },
     "execution_count": 7,
     "metadata": {},
     "output_type": "execute_result"
    },
    {
     "name": "stdout",
     "output_type": "stream",
     "text": [
      "Q =\n"
     ]
    },
    {
     "data": {
      "text/latex": [
       "$\\displaystyle - 0.122222222222222 S_{y}$"
      ],
      "text/plain": [
       "-0.122222222222222*S_y"
      ]
     },
     "execution_count": 7,
     "metadata": {},
     "output_type": "execute_result"
    },
    {
     "name": "stdout",
     "output_type": "stream",
     "text": [
      "Taub =\n"
     ]
    },
    {
     "data": {
      "text/latex": [
       "$\\displaystyle - \\frac{2 S_{y} \\left(- \\frac{S_{45}^{2} t}{4} - \\frac{S_{45} a t}{2} + \\frac{3 a^{2} t}{4}\\right)}{3 a^{3} t^{2}}$"
      ],
      "text/plain": [
       "-2*S_y*(-S_45**2*t/4 - S_45*a*t/2 + 3*a**2*t/4)/(3*a**3*t**2)"
      ]
     },
     "execution_count": 7,
     "metadata": {},
     "output_type": "execute_result"
    },
    {
     "name": "stdout",
     "output_type": "stream",
     "text": [
      "Tau =\n"
     ]
    },
    {
     "data": {
      "text/latex": [
       "$\\displaystyle \\frac{S_{y} \\left(S_{45}^{2} + 2 S_{45} a - 2.06666666666667 a^{2}\\right)}{6 a^{3} t}$"
      ],
      "text/plain": [
       "S_y*(S_45**2 + 2*S_45*a - 2.06666666666667*a**2)/(6*a**3*t)"
      ]
     },
     "execution_count": 7,
     "metadata": {},
     "output_type": "execute_result"
    },
    {
     "name": "stdout",
     "output_type": "stream",
     "text": []
    }
   ],
   "source": [
    "for element in shape.elements.values():\n",
    "    print(f'Element {element.pos}:')\n",
    "    print('l =')\n",
    "    element.length\n",
    "    print('t =')\n",
    "    element.t\n",
    "    print('ty =')\n",
    "    element.ty\n",
    "    print('tz =')\n",
    "    element.tz\n",
    "    print('Int_ty =')\n",
    "    element.int_ty\n",
    "    print('Int_tz =')\n",
    "    element.int_tz\n",
    "    print('Int_ty at Node1 =')\n",
    "    element.int_ty.subs(element.S, 0)\n",
    "    print('Int_ty at Node2 =')\n",
    "    element.int_ty.subs(element.S, element.length)\n",
    "    print('Int_tz at Node1 =')\n",
    "    element.int_tz.subs(element.S, 0)\n",
    "    print('Int_tz at Node2 =')\n",
    "    element.int_tz.subs(element.S, element.length)\n",
    "    print('qb =')\n",
    "    element.qb\n",
    "    print('qb at Node1 =')\n",
    "    element.qb.subs(element.S, 0)\n",
    "    print('qb at Node2 =')\n",
    "    element.qb.subs(element.S, element.length)\n",
    "    print('qs =')\n",
    "    element.qs\n",
    "    print('qs at Node1 =')\n",
    "    element.qs.subs(element.S, 0)\n",
    "    print('qs at Node2 =')\n",
    "    element.qs.subs(element.S, element.length)\n",
    "    print('Qb =')\n",
    "    element.Qb\n",
    "    print('Q =')\n",
    "    element.Q\n",
    "    print('Taub =')\n",
    "    element.Taub\n",
    "    print('Tau =')\n",
    "    element.Tau\n",
    "    print('\\n')\n"
   ]
  },
  {
   "cell_type": "code",
   "execution_count": 109,
   "id": "7ab001dc69e85a26",
   "metadata": {
    "collapsed": false
   },
   "outputs": [],
   "source": [
    "from sympy import *\n",
    "x = symbols('x', real=True, positive=True)\n",
    "y,z = symbols('y z', real=True)\n",
    "E = 70e9"
   ]
  },
  {
   "cell_type": "code",
   "execution_count": 110,
   "id": "357bd562",
   "metadata": {},
   "outputs": [],
   "source": [
    "## FInd Loading\n",
    "K = symbols('K', real=True, positive=True)\n",
    "unknown_distribution = K*(.140-.100/7.100*x)\n",
    "total_force = integrate(unknown_distribution, (x, 0, 7.100))\n",
    "F = 1103.625*2\n",
    "K = solve(total_force-F, K)[0]\n",
    "force_distribution = K*(.140-.100/7.100*x)"
   ]
  },
  {
   "cell_type": "code",
   "execution_count": 111,
   "id": "c1f1a3d0",
   "metadata": {},
   "outputs": [],
   "source": [
    "W = 17313.545865/1000*9.81*2\n",
    "W_u = symbols('W_u', real=True, positive=True)\n",
    "unknown_distribution = W_u*(.140-.100/7.100*x)\n",
    "total_weight = integrate(unknown_distribution, (x, 0, 7.100))\n",
    "W_u = solve(total_weight-W, W_u)[0]\n",
    "weight_distribution = W_u*(.140-.100/7.100*x)"
   ]
  },
  {
   "cell_type": "code",
   "execution_count": 112,
   "id": "1db4813e",
   "metadata": {},
   "outputs": [],
   "source": [
    "S_z, M_y, p_z = symbols('S_z M_y p_z', real=True, cls=Function)\n",
    "dist_force = weight_distribution-force_distribution"
   ]
  },
  {
   "cell_type": "code",
   "execution_count": 113,
   "id": "d7118a53",
   "metadata": {},
   "outputs": [
    {
     "data": {
      "image/png": "[encoded data removed]",
      "text/plain": [
       "<Figure size 640x480 with 1 Axes>"
      ]
     },
     "metadata": {},
     "output_type": "display_data"
    },
    {
     "data": {
      "text/plain": [
       "<sympy.plotting.plot.Plot at 0x234a7001810>"
      ]
     },
     "execution_count": 113,
     "metadata": {},
     "output_type": "execute_result"
    }
   ],
   "source": [
    "S_at_root = W-F\n",
    "shear_distribution = dsolve(Eq(S_z(x).diff(x), -dist_force), ics={S_z(0): S_at_root})\n",
    "shear_distribution.subs(x, 0)\n",
    "\n",
    "plot(shear_distribution.rhs, (x, 0, 7.100))"
   ]
  },
  {
   "cell_type": "code",
   "execution_count": 114,
   "metadata": {},
   "outputs": [
    {
     "data": {
      "text/latex": [
       "$\\displaystyle S_{z}{\\left(7.1 \\right)} = 9.09494701772928 \\cdot 10^{-13}$"
      ],
      "text/plain": [
       "Eq(S_z(7.1), 9.09494701772928e-13)"
      ]
     },
     "execution_count": 114,
     "metadata": {},
     "output_type": "execute_result"
    }
   ],
   "source": [
    "shear_distribution.subs(x, 7.1)"
   ],
   "id": "9632e5fabbbfeff9"
  },
  {
   "cell_type": "code",
   "execution_count": 115,
   "id": "98f6cebd",
   "metadata": {},
   "outputs": [
    {
     "data": {
      "text/latex": [
       "$\\displaystyle \\frac{d}{d x} M_{y}{\\left(x \\right)} = - 20.5818756213351 x^{2} + 409.167687352141 x - 1867.5582301287$"
      ],
      "text/plain": [
       "Eq(Derivative(M_y(x), x), -20.5818756213351*x**2 + 409.167687352141*x - 1867.5582301287)"
      ]
     },
     "execution_count": 115,
     "metadata": {},
     "output_type": "execute_result"
    }
   ],
   "source": [
    "Eq(M_y(x).diff(x), shear_distribution.rhs)"
   ]
  },
  {
   "cell_type": "code",
   "execution_count": 116,
   "id": "b123d30a",
   "metadata": {},
   "outputs": [
    {
     "data": {
      "image/png": "[encoded data removed]",
      "text/plain": [
       "<Figure size 640x480 with 1 Axes>"
      ]
     },
     "metadata": {},
     "output_type": "display_data"
    },
    {
     "data": {
      "text/plain": [
       "<sympy.plotting.plot.Plot at 0x234a7097d90>"
      ]
     },
     "execution_count": 116,
     "metadata": {},
     "output_type": "execute_result"
    }
   ],
   "source": [
    "M_at_tip = 0\n",
    "moment_distribution = dsolve(Eq(M_y(x).diff(x), shear_distribution.rhs), ics={M_y(7.1): M_at_tip})\n",
    "moment_distribution\n",
    "moment_at_root = moment_distribution.subs(x, 0).rhs\n",
    "plot(moment_distribution.rhs, (x, 0, 7.100))"
   ]
  },
  {
   "cell_type": "code",
   "execution_count": 117,
   "id": "06c37cc4",
   "metadata": {},
   "outputs": [
    {
     "data": {
      "text/latex": [
       "$\\displaystyle 5402.08510270561$"
      ],
      "text/plain": [
       "5402.08510270561"
      ]
     },
     "execution_count": 117,
     "metadata": {},
     "output_type": "execute_result"
    }
   ],
   "source": [
    "moment_at_root = moment_distribution.subs(x, 0).rhs\n",
    "moment_at_root"
   ]
  },
  {
   "cell_type": "code",
   "execution_count": 139,
   "id": "9224b8fa",
   "metadata": {},
   "outputs": [
    {
     "data": {
      "text/plain": [
       "[<matplotlib.lines.Line2D at 0x234a70a6ed0>]"
      ]
     },
     "execution_count": 139,
     "metadata": {},
     "output_type": "execute_result"
    },
    {
     "data": {
      "image/png": "[encoded data removed]",
      "text/plain": [
       "<Figure size 640x480 with 1 Axes>"
      ]
     },
     "metadata": {},
     "output_type": "display_data"
    }
   ],
   "source": [
    "t = 0.005\n",
    "\n",
    "def h_variation(x_dist):\n",
    "    return .160-.110/7.100*x_dist\n",
    "def b_variation(x_dist):\n",
    "    return .300-.200/7.100*x_dist\n",
    "\n",
    "def Iy_dist(x_dist):\n",
    "    return 2*h_variation(x_dist)**2*t*(h_variation(x_dist)/12+b_variation(x_dist)/4)\n",
    "\n",
    "def I_y_variations(x_dist):\n",
    "    R = 0.01\n",
    "    r = 0.005\n",
    "    A = np.pi*(R**2-r**2)\n",
    "    I = np.pi/4*(R**4-r**4)\n",
    "    z_f = h_variation(x_dist)/2-R\n",
    "    I_y_f = 4 * (I + A*z_f**2)\n",
    "    \n",
    "    t = 0.005\n",
    "    z2 = (h_variation(x_dist)/2)**2\n",
    "    A = (b_variation(x_dist)-R*2)*t\n",
    "    \n",
    "    I_y_t = 2*(A*z2)\n",
    "    \n",
    "    I_y_s = 2*((h_variation(x_dist)-R*2)*t**3/12)\n",
    "    \n",
    "    return I_y_f+I_y_t+I_y_s\n",
    "\n",
    "\n",
    "def moment(x_dist):\n",
    "    return moment_distribution.rhs.subs(x, x_dist)\n",
    "\n",
    "\n",
    "shear_at_root = S_at_root\n",
    "slope_at_root = 0\n",
    "deflection_at_root = 0\n",
    "\n",
    "w = deflection_at_root\n",
    "dw_dx = -slope_at_root\n",
    "d2w_dx2 = -moment_at_root/(E*Iy_dist(0))\n",
    "\n",
    "\n",
    "def odes(w_arr, x_dist):\n",
    "    \n",
    "    w2 = w_arr[1]\n",
    "    dw2dx = -(moment(x_dist))/(E*I_y_variations(x_dist))\n",
    "    dw1dx = w2\n",
    "\n",
    "    return [dw1dx, dw2dx]\n",
    "    \n",
    "    \n",
    "w0 = [w, dw_dx]\n",
    "\n",
    "from scipy.integrate import odeint\n",
    "import numpy as np\n",
    "\n",
    "x_ = np.linspace(0, 7.100, 20000)\n",
    "w = odeint(odes, w0, x_, atol=1e-12)\n",
    "\n",
    "import matplotlib.pyplot as plt\n",
    "plt.plot(x_, w[:, 0]*1000)"
   ]
  },
  {
   "cell_type": "code",
   "execution_count": 140,
   "id": "695f4975",
   "metadata": {},
   "outputs": [
    {
     "data": {
      "text/plain": [
       "2.2570510298571068e-05"
      ]
     },
     "execution_count": 140,
     "metadata": {},
     "output_type": "execute_result"
    }
   ],
   "source": [
    "I_y_variations(0)"
   ]
  },
  {
   "cell_type": "code",
   "execution_count": 122,
   "id": "895751cc",
   "metadata": {},
   "outputs": [
    {
     "data": {
      "text/latex": [
       "$\\displaystyle 48227538.2255799$"
      ],
      "text/plain": [
       "48227538.2255799"
      ]
     },
     "execution_count": 122,
     "metadata": {},
     "output_type": "execute_result"
    }
   ],
   "source": [
    "moment_at_root*0.0775/I_y_variations(0)*2.6"
   ]
  },
  {
   "cell_type": "code",
   "execution_count": 123,
   "id": "9afc1c87",
   "metadata": {},
   "outputs": [
    {
     "data": {
      "text/plain": [
       "-65.57051612517373"
      ]
     },
     "execution_count": 123,
     "metadata": {},
     "output_type": "execute_result"
    }
   ],
   "source": [
    "w[-1, 0]*1000"
   ]
  },
  {
   "cell_type": "code",
   "execution_count": null,
   "id": "14c0d237",
   "metadata": {},
   "outputs": [],
   "source": []
  },
  {
   "cell_type": "code",
   "execution_count": 2,
   "id": "d318c1ce",
   "metadata": {},
   "outputs": [],
   "source": [
    "from sympy import *\n",
    "x = symbols('x', real=True, positive=True)\n",
    "y,z = symbols('y z', real=True)\n",
    "E = 70e9"
   ]
  },
  {
   "cell_type": "code",
   "execution_count": 3,
   "id": "d053dce3",
   "metadata": {},
   "outputs": [],
   "source": [
    "## FInd Loading\n",
    "K = symbols('K', real=True, positive=True)\n",
    "unknown_distribution = K*(.010-(.01-.01)/7.500*x)\n",
    "total_force = integrate(unknown_distribution, (x, 0, 7.500))\n",
    "F = 1103.625*2\n",
    "K = solve(total_force-F, K)[0]\n",
    "force_distribution = -K*(.010-(.01-.01)/7.500*x)"
   ]
  },
  {
   "cell_type": "code",
   "execution_count": 4,
   "id": "bdb1b24a",
   "metadata": {},
   "outputs": [],
   "source": [
    "W = 4383.574990/1000*9.81*2\n",
    "W_u = symbols('W_u', real=True, positive=True)\n",
    "unknown_distribution = W_u*(.010-(.01-.01)/7.500*x)\n",
    "total_weight = integrate(unknown_distribution, (x, 0, 7.500))\n",
    "W_u = solve(total_weight-W, W_u)[0]\n",
    "weight_distribution = W_u*(.010-(.01-.01)/7.500*x)"
   ]
  },
  {
   "cell_type": "code",
   "execution_count": 6,
   "id": "2e4701b6",
   "metadata": {},
   "outputs": [],
   "source": [
    "S_z, M_y, p_z = symbols('S_z M_y p_z', real=True, cls=Function)\n",
    "dist_force = weight_distribution-force_distribution"
   ]
  },
  {
   "cell_type": "code",
   "execution_count": 7,
   "id": "a717fc81",
   "metadata": {},
   "outputs": [
    {
     "data": {
      "image/png": "[encoded data removed]",
      "text/plain": [
       "<Figure size 640x480 with 1 Axes>"
      ]
     },
     "metadata": {},
     "output_type": "display_data"
    },
    {
     "data": {
      "text/plain": [
       "<sympy.plotting.plot.Plot at 0x2147362e610>"
      ]
     },
     "execution_count": 7,
     "metadata": {},
     "output_type": "execute_result"
    }
   ],
   "source": [
    "S_at_root = W+F\n",
    "shear_distribution = dsolve(Eq(S_z(x).diff(x), -dist_force), ics={S_z(0): S_at_root})\n",
    "shear_distribution.subs(x, 0)\n",
    "\n",
    "plot(shear_distribution.rhs, (x, 0, 7.500))"
   ]
  },
  {
   "cell_type": "code",
   "execution_count": 8,
   "id": "8bcf688e",
   "metadata": {},
   "outputs": [
    {
     "data": {
      "text/latex": [
       "$\\displaystyle S_{z}{\\left(7.5 \\right)} = -4.54747350886464 \\cdot 10^{-13}$"
      ],
      "text/plain": [
       "Eq(S_z(7.5), -4.54747350886464e-13)"
      ]
     },
     "execution_count": 8,
     "metadata": {},
     "output_type": "execute_result"
    }
   ],
   "source": [
    "shear_distribution.subs(x, 7.5)"
   ]
  },
  {
   "cell_type": "code",
   "execution_count": 9,
   "id": "07f9dcf9",
   "metadata": {},
   "outputs": [
    {
     "data": {
      "image/png": "[encoded data removed]",
      "text/plain": [
       "<Figure size 640x480 with 1 Axes>"
      ]
     },
     "metadata": {},
     "output_type": "display_data"
    },
    {
     "data": {
      "text/plain": [
       "<sympy.plotting.plot.Plot at 0x214766edb50>"
      ]
     },
     "execution_count": 9,
     "metadata": {},
     "output_type": "execute_result"
    }
   ],
   "source": [
    "M_at_tip = 0\n",
    "moment_distribution = dsolve(Eq(M_y(x).diff(x), shear_distribution.rhs), ics={M_y(7.500): M_at_tip})\n",
    "moment_distribution\n",
    "moment_at_root = moment_distribution.subs(x, 0).rhs\n",
    "plot(moment_distribution.rhs, (x, 0, 7.500))"
   ]
  },
  {
   "cell_type": "code",
   "execution_count": 84,
   "id": "ea17c439",
   "metadata": {},
   "outputs": [
    {
     "data": {
      "text/plain": [
       "[<matplotlib.lines.Line2D at 0x234a5b059d0>]"
      ]
     },
     "execution_count": 84,
     "metadata": {},
     "output_type": "execute_result"
    },
    {
     "data": {
      "image/png": "[encoded data removed]",
      "text/plain": [
       "<Figure size 640x480 with 1 Axes>"
      ]
     },
     "metadata": {},
     "output_type": "display_data"
    }
   ],
   "source": [
    "t = 0.005\n",
    "def force_dist(x_dist):\n",
    "    return -K * (.010-(.01-.01)/7.500*x_dist)\n",
    "\n",
    "def weight_dist(x_dist):\n",
    "    return W_u * (.010-(.01-.01)/7.500*x_dist)\n",
    "\n",
    "\n",
    "def h_variation(x_dist):\n",
    "    return .160-(.16-.025)/7.500*x_dist\n",
    "def b_variation(x_dist):\n",
    "    return .030\n",
    "\n",
    "def Iy_dist(x_dist):\n",
    "    Iy_in =  2*h_variation(x_dist)**3*.003/12\n",
    "    z2A = 2*b_variation(x_dist)*.005*(h_variation(x_dist)/2)**2\n",
    "    return Iy_in + z2A\n",
    "\n",
    "def I_y_variations(x_dist):\n",
    "    R = 0.01\n",
    "    r = 0.005\n",
    "    A = np.pi*(R**2-r**2)\n",
    "    I = np.pi/4*(R**4-r**4)\n",
    "    z_f = h_variation(x_dist)/2-R\n",
    "    I_y_f = 4 * (I + A*z_f**2)\n",
    "    \n",
    "    t = 0.005\n",
    "    z2 = (h_variation(x_dist)/2)**2\n",
    "    A = (b_variation(x_dist)-R*2)*t\n",
    "    \n",
    "    I_y_t = 2*(A*z2)\n",
    "    \n",
    "    I_y_s = 2*((h_variation(x_dist)-R*2)*t**3/12)\n",
    "    \n",
    "    return I_y_f+I_y_t+I_y_s\n",
    "\n",
    "\n",
    "def moment(x_dist):\n",
    "    return moment_distribution.rhs.subs(x, x_dist)\n",
    "\n",
    "\n",
    "shear_at_root = W+F\n",
    "slope_at_root = 0\n",
    "deflection_at_root = 0\n",
    "\n",
    "w = deflection_at_root\n",
    "dw_dx = -slope_at_root\n",
    "d2w_dx2 = -moment_at_root/(E*Iy_dist(0))\n",
    "\n",
    "\n",
    "def odes(w_arr, x_dist):\n",
    "    \n",
    "    w2 = w_arr[1]\n",
    "    dw2dx = -(moment(x_dist))/(E*Iy_dist(x_dist))\n",
    "    dw1dx = w2\n",
    "\n",
    "    return [dw1dx, dw2dx]\n",
    "    \n",
    "    \n",
    "w0 = [w, dw_dx]\n",
    "\n",
    "from scipy.integrate import odeint\n",
    "import numpy as np\n",
    "\n",
    "x_ = np.linspace(0, 7.500, 2000)\n",
    "w = odeint(odes, w0, x_, atol=1e-12)\n",
    "\n",
    "import matplotlib.pyplot as plt\n",
    "plt.plot(x_, w[:, 0]*1000)"
   ]
  },
  {
   "cell_type": "code",
   "execution_count": 83,
   "id": "799ad905",
   "metadata": {},
   "outputs": [
    {
     "data": {
      "text/latex": [
       "$\\displaystyle 215716781.453878$"
      ],
      "text/plain": [
       "215716781.453878"
      ]
     },
     "execution_count": 83,
     "metadata": {},
     "output_type": "execute_result"
    }
   ],
   "source": [
    "moment_at_root*0.15/Iy_dist(0)"
   ]
  },
  {
   "cell_type": "code",
   "execution_count": 1,
   "id": "ce4ae066",
   "metadata": {},
   "outputs": [
    {
     "ename": "NameError",
     "evalue": "name 'w' is not defined",
     "output_type": "error",
     "traceback": [
      "\u001B[1;31m---------------------------------------------------------------------------\u001B[0m",
      "\u001B[1;31mNameError\u001B[0m                                 Traceback (most recent call last)",
      "Cell \u001B[1;32mIn[1], line 1\u001B[0m\n\u001B[1;32m----> 1\u001B[0m w[\u001B[38;5;241m-\u001B[39m\u001B[38;5;241m1\u001B[39m, \u001B[38;5;241m0\u001B[39m]\u001B[38;5;241m*\u001B[39m\u001B[38;5;241m1000\u001B[39m\n",
      "\u001B[1;31mNameError\u001B[0m: name 'w' is not defined"
     ]
    }
   ],
   "source": [
    "w[-1, 0]*1000"
   ]
  },
  {
   "cell_type": "code",
   "execution_count": 79,
   "id": "73a593a1",
   "metadata": {},
   "outputs": [
    {
     "data": {
      "text/plain": [
       "7.421349352447153e-07"
      ]
     },
     "execution_count": 79,
     "metadata": {},
     "output_type": "execute_result"
    }
   ],
   "source": [
    "\n",
    "\n",
    "(I_y_variations(7.5))"
   ]
  },
  {
   "cell_type": "code",
   "execution_count": 78,
   "id": "eb43ae13",
   "metadata": {},
   "outputs": [
    {
     "data": {
      "text/plain": [
       "6.927083333333333e-07"
      ]
     },
     "execution_count": 78,
     "metadata": {},
     "output_type": "execute_result"
    }
   ],
   "source": [
    "Iy_dist(7.5)"
   ]
  },
  {
   "cell_type": "code",
   "execution_count": 74,
   "id": "f72c78cc",
   "metadata": {},
   "outputs": [
    {
     "data": {
      "text/plain": [
       "0.16"
      ]
     },
     "execution_count": 74,
     "metadata": {},
     "output_type": "execute_result"
    }
   ],
   "source": [
    "\n",
    "h_variation(0)"
   ]
  },
  {
   "cell_type": "code",
   "execution_count": 137,
   "id": "1f8df0f6",
   "metadata": {},
   "outputs": [],
   "source": [
    "def I_y_variations_2(x_dist):\n",
    "    R = 0.01\n",
    "    r = 0.005\n",
    "    A = np.pi*(R**2-r**2)\n",
    "    I = np.pi/4*(R**4-r**4)\n",
    "    z_f = h_variation(x_dist)/2-R\n",
    "    I_y_f = 4 * (I + A*z_f**2)\n",
    "    print(\"I_y_f\", I_y_f)  \n",
    "    t = 0.005\n",
    "    z2 = (h_variation(x_dist)/2-t/4)**2\n",
    "    A = (b_variation(x_dist)-R*2)*t\n",
    "    \n",
    "    I_y_t = 2*(A*z2)\n",
    "    print(\"I_y_t\", I_y_t)\n",
    "    \n",
    "    I_y_s = 2*((h_variation(x_dist)-R*2)*t**3/12)\n",
    "    \n",
    "    print(\"I_y_s\", I_y_s)\n",
    "    return I_y_f+I_y_t+I_y_s"
   ]
  },
  {
   "cell_type": "code",
   "execution_count": 138,
   "id": "ca102b75",
   "metadata": {},
   "outputs": [
    {
     "name": "stdout",
     "output_type": "stream",
     "text": [
      "I_y_f 4.647593631904401e-06\n",
      "I_y_t 1.7364375e-05\n",
      "I_y_s 2.9166666666666676e-09\n"
     ]
    },
    {
     "data": {
      "text/plain": [
       "2.2014885298571068e-05"
      ]
     },
     "execution_count": 138,
     "metadata": {},
     "output_type": "execute_result"
    }
   ],
   "source": [
    "I_y_variations_2(0)"
   ]
  },
  {
   "cell_type": "code",
   "execution_count": 1,
   "id": "24db4673",
   "metadata": {
    "ExecuteTime": {
     "end_time": "2024-04-05T14:39:11.299516900Z",
     "start_time": "2024-04-05T14:39:10.763737900Z"
    }
   },
   "outputs": [],
   "source": [
    "from sympy import *\n",
    "\n",
    "x1 = symbols('x_1', real=True)\n",
    "x2 = symbols('x_1', real=True)\n",
    "\n",
    "assert x1 == x2"
   ]
  },
  {
   "cell_type": "code",
   "outputs": [
    {
     "data": {
      "text/plain": "0",
      "text/latex": "$\\displaystyle 0$"
     },
     "execution_count": 2,
     "metadata": {},
     "output_type": "execute_result"
    }
   ],
   "source": [
    "x1-x2"
   ],
   "metadata": {
    "collapsed": false,
    "ExecuteTime": {
     "end_time": "2024-04-05T14:39:15.795315300Z",
     "start_time": "2024-04-05T14:39:15.717696200Z"
    }
   },
   "id": "dadd4909b6098b0e",
   "execution_count": 2
  },
  {
   "cell_type": "code",
   "outputs": [],
   "source": [
    "from sympy import *"
   ],
   "metadata": {
    "collapsed": false,
    "ExecuteTime": {
     "end_time": "2024-04-06T23:25:14.376098600Z",
     "start_time": "2024-04-06T23:25:14.038671300Z"
    }
   },
   "id": "df8a6e1bccb5e500",
   "execution_count": 1
  },
  {
   "cell_type": "code",
   "outputs": [
    {
     "data": {
      "text/plain": "{qI: 9*T/(58*a**2), qII: 11*T/(58*a**2), qIII: 9*T/(58*a**2)}",
      "text/latex": "$\\displaystyle \\left\\{ qI : \\frac{9 T}{58 a^{2}}, \\  qII : \\frac{11 T}{58 a^{2}}, \\  qIII : \\frac{9 T}{58 a^{2}}\\right\\}$"
     },
     "execution_count": 9,
     "metadata": {},
     "output_type": "execute_result"
    }
   ],
   "source": [
    "qI, qII, T, a, qIII = symbols('qI qII T a qIII', real=True, positive=True)\n",
    "\n",
    "eq1 = Eq(T/(2*a**2), qI+qII+qIII)\n",
    "eq2 = Eq(7/2*qI-qII, 7/2*qII-qI-qIII)\n",
    "eq3 = Eq(7/2*qII-qIII-qI, 7/2*qIII-qII)\n",
    "\n",
    "\n",
    "sol = solve([eq1, eq2, eq3], [qI, qII, qIII])\n",
    "nsimplify(sol)"
   ],
   "metadata": {
    "collapsed": false,
    "ExecuteTime": {
     "end_time": "2024-04-07T00:43:12.565145900Z",
     "start_time": "2024-04-07T00:43:12.518936700Z"
    }
   },
   "id": "13d21c5e1519dfca",
   "execution_count": 9
  },
  {
   "cell_type": "code",
   "outputs": [],
   "source": [],
   "metadata": {
    "collapsed": false
   },
   "id": "bf6548029bc94f48"
  }
 ],
 "metadata": {
  "kernelspec": {
   "display_name": "Python 3",
   "language": "python",
   "name": "python3"
  },
  "language_info": {
   "codemirror_mode": {
    "name": "ipython",
    "version": 3
   },
   "file_extension": ".py",
   "mimetype": "text/x-python",
   "name": "python",
   "nbconvert_exporter": "python",
   "pygments_lexer": "ipython3",
   "version": "3.11.5"
  }
 },
 "nbformat": 4,
 "nbformat_minor": 5
}
